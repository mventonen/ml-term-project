{
 "cells": [
  {
   "cell_type": "code",
   "execution_count": null,
   "metadata": {},
   "outputs": [],
   "source": [
    "from sklearn.model_selection import train_test_split\n",
    "from sklearn.linear_model import LinearRegression\n",
    "from sklearn.metrics import r2_score\n",
    "from sklearn.ensemble import RandomForestRegressor\n",
    "from sklearn.preprocessing import StandardScaler, OneHotEncoder\n",
    "from sklearn.compose import ColumnTransformer\n",
    "from sklearn.pipeline import Pipeline\n",
    "from catboost import CatBoostRegressor\n",
    "from xgboost import XGBRegressor\n",
    "import numpy as np\n",
    "import pandas as pd\n",
    "from sklearn.model_selection import RandomizedSearchCV, GridSearchCV\n",
    "from sklearn.preprocessing import PolynomialFeatures\n",
    "from sklearn.model_selection import cross_val_score\n",
    "import matplotlib.pyplot as plt\n",
    "import seaborn as sns\n",
    "from sklearn.preprocessing import StandardScaler\n",
    "from sklearn.decomposition import PCA"
   ]
  },
  {
   "cell_type": "code",
   "execution_count": null,
   "metadata": {},
   "outputs": [],
   "source": [
    "\n",
    "train_df = pd.read_csv('train.csv')\n",
    "test_df = pd.read_csv('test.csv')"
   ]
  },
  {
   "cell_type": "code",
   "execution_count": null,
   "metadata": {},
   "outputs": [],
   "source": [
    "train_df.fillna(method='ffill', inplace=True)\n",
    "test_df.fillna(method='ffill', inplace=True)\n",
    "\n",
    "numeric_cols = [col for col in train_df.select_dtypes(include=[np.number]).columns if col != 'pSat_Pa']\n",
    "\n",
    "Q1 = train_df[numeric_cols].quantile(0.25)\n",
    "Q3 = train_df[numeric_cols].quantile(0.75)\n",
    "IQR = Q3 - Q1\n",
    "\n",
    "train_df_no_outliers = train_df[~((train_df[numeric_cols] < (Q1 - 1.5 * IQR)) | (train_df[numeric_cols] > (Q3 + 1.5 * IQR))).any(axis=1)]\n",
    "\n",
    "skewed_feats = train_df_no_outliers[numeric_cols].apply(lambda x: x.skew()).sort_values(ascending=False)\n",
    "skewness = pd.DataFrame({'Skew': skewed_feats})\n",
    "skewness = skewness[abs(skewness['Skew']) > 0.75]\n",
    "\n",
    "for feat in skewness.index:\n",
    "    train_df_no_outliers[feat] = np.log1p(train_df_no_outliers[feat])\n",
    "\n",
    "X_scaled = StandardScaler().fit_transform(train_df_no_outliers[numeric_cols])\n",
    "\n",
    "pca = PCA(n_components=0.95)\n",
    "X_pca = pca.fit_transform(X_scaled)\n",
    "\n",
    "test_df_scaled = StandardScaler().fit_transform(test_df[numeric_cols])\n",
    "test_pca = pca.transform(test_df_scaled)\n"
   ]
  },
  {
   "cell_type": "code",
   "execution_count": null,
   "metadata": {},
   "outputs": [],
   "source": [
    "\n",
    "\n",
    "train_df_no_outliers['log_pSat_Pa'] = np.log10(train_df_no_outliers['pSat_Pa'])\n",
    "\n",
    "X_train, X_test, y_train, y_test = train_test_split(X_pca, train_df_no_outliers['log_pSat_Pa'], test_size=0.2, random_state=42)\n",
    "\n",
    "rf_model = RandomForestRegressor(n_estimators=100, random_state=0)\n",
    "rf_model.fit(X_train, y_train)\n",
    "rf_predictions = rf_model.predict(X_test)\n",
    "\n",
    "rf_r2 = r2_score(y_test, rf_predictions)\n",
    "print(\"Random Forest R^2 Score: \", rf_r2)\n",
    "\n",
    "cb_model = CatBoostRegressor(iterations=500, depth=4, learning_rate=0.02, loss_function='RMSE', verbose=True)\n",
    "cb_model.fit(X_train, y_train)\n",
    "cb_predictions = cb_model.predict(X_test)\n",
    "\n",
    "cb_r2 = r2_score(y_test, cb_predictions)\n",
    "print(\"CatBoost R^2 Score: \", cb_r2)\n",
    "\n",
    "rf_test_predictions = rf_model.predict(test_pca)\n",
    "rf_submission = pd.DataFrame({'Id': test_df['Id'], 'target': rf_test_predictions})\n",
    "rf_submission.to_csv('rf_submission.csv', index=False)\n",
    "\n",
    "cb_test_predictions = cb_model.predict(test_pca)\n",
    "cb_submission = pd.DataFrame({'Id': test_df['Id'], 'target': cb_test_predictions})\n",
    "cb_submission.to_csv('cb_submission.csv', index=False)\n"
   ]
  }
 ],
 "metadata": {
  "language_info": {
   "name": "python"
  }
 },
 "nbformat": 4,
 "nbformat_minor": 2
}
